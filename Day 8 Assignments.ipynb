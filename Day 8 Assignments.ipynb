{
 "cells": [
  {
   "cell_type": "markdown",
   "metadata": {},
   "source": [
    "# Assignment 1"
   ]
  },
  {
   "cell_type": "code",
   "execution_count": null,
   "metadata": {},
   "outputs": [],
   "source": [
    "def fib():\n",
    "    fibo=10\n",
    "    def fibonic():\n",
    "        n1=0\n",
    "        n2=1\n",
    "        counter=0\n",
    "        while(counter<fibo):\n",
    "            print(n1,end=\",\")\n",
    "            nth=n1+n2\n",
    "            n1=n2\n",
    "            n2=nth\n",
    "            counter+=1\n",
    "    fibonic()"
   ]
  },
  {
   "cell_type": "code",
   "execution_count": 78,
   "metadata": {},
   "outputs": [
    {
     "name": "stdout",
     "output_type": "stream",
     "text": [
      "0,1,1,2,3,5,8,13,21,34,"
     ]
    }
   ],
   "source": [
    "fib()"
   ]
  },
  {
   "cell_type": "markdown",
   "metadata": {},
   "source": [
    "# Assignment 2"
   ]
  },
  {
   "cell_type": "code",
   "execution_count": 5,
   "metadata": {},
   "outputs": [
    {
     "name": "stdout",
     "output_type": "stream",
     "text": [
      "Not writable in Read mode\n",
      "Try writing in Write mode\n"
     ]
    }
   ],
   "source": [
    "try:\n",
    "    f=open(\"hello.txt\",\"r\")\n",
    "    f.write(\"hi\")\n",
    "    f.close()\n",
    "except:\n",
    "    print(\"Not writable in Read mode\")\n",
    "finally:\n",
    "    print(\"Try writing in Write mode\")"
   ]
  }
 ],
 "metadata": {
  "kernelspec": {
   "display_name": "Python 3",
   "language": "python",
   "name": "python3"
  },
  "language_info": {
   "codemirror_mode": {
    "name": "ipython",
    "version": 3
   },
   "file_extension": ".py",
   "mimetype": "text/x-python",
   "name": "python",
   "nbconvert_exporter": "python",
   "pygments_lexer": "ipython3",
   "version": "3.7.6"
  }
 },
 "nbformat": 4,
 "nbformat_minor": 4
}
